{
 "cells": [
  {
   "cell_type": "code",
   "execution_count": 72,
   "metadata": {},
   "outputs": [],
   "source": [
    "import pandas as pd\n",
    "import numpy as np\n",
    "import sklearn.metrics as skm\n",
    "from sklearn.model_selection import train_test_split\n"
   ]
  },
  {
   "cell_type": "code",
   "execution_count": 93,
   "metadata": {},
   "outputs": [],
   "source": [
    "iris= pd.read_csv(\"/Users/sebastianloeza/Desktop/Escuela/4to semestre/Aplicaciones_Ciencia_Datos/Practicas/PracticaKNN/Iris.csv\")"
   ]
  },
  {
   "cell_type": "code",
   "execution_count": 94,
   "metadata": {},
   "outputs": [
    {
     "data": {
      "text/plain": [
       "Iris-setosa        50\n",
       "Iris-versicolor    50\n",
       "Iris-virginica     50\n",
       "Name: Species, dtype: int64"
      ]
     },
     "execution_count": 94,
     "metadata": {},
     "output_type": "execute_result"
    }
   ],
   "source": [
    "iris['Species'].value_counts()\n",
    "\n"
   ]
  },
  {
   "cell_type": "code",
   "execution_count": 95,
   "metadata": {},
   "outputs": [],
   "source": [
    "iris.loc[iris['Species']=='Iris-setosa','Species']=1\n",
    "iris.loc[iris['Species']=='Iris-versicolor','Species']=2\n",
    "iris.loc[iris['Species']=='Iris-virginica','Species']=3"
   ]
  },
  {
   "cell_type": "code",
   "execution_count": 96,
   "metadata": {},
   "outputs": [
    {
     "data": {
      "text/html": [
       "<div>\n",
       "<style scoped>\n",
       "    .dataframe tbody tr th:only-of-type {\n",
       "        vertical-align: middle;\n",
       "    }\n",
       "\n",
       "    .dataframe tbody tr th {\n",
       "        vertical-align: top;\n",
       "    }\n",
       "\n",
       "    .dataframe thead th {\n",
       "        text-align: right;\n",
       "    }\n",
       "</style>\n",
       "<table border=\"1\" class=\"dataframe\">\n",
       "  <thead>\n",
       "    <tr style=\"text-align: right;\">\n",
       "      <th></th>\n",
       "      <th>Id</th>\n",
       "      <th>SepalLengthCm</th>\n",
       "      <th>SepalWidthCm</th>\n",
       "      <th>PetalLengthCm</th>\n",
       "      <th>PetalWidthCm</th>\n",
       "      <th>Species</th>\n",
       "    </tr>\n",
       "  </thead>\n",
       "  <tbody>\n",
       "    <tr>\n",
       "      <th>0</th>\n",
       "      <td>1</td>\n",
       "      <td>5.1</td>\n",
       "      <td>3.5</td>\n",
       "      <td>1.4</td>\n",
       "      <td>0.2</td>\n",
       "      <td>1</td>\n",
       "    </tr>\n",
       "    <tr>\n",
       "      <th>1</th>\n",
       "      <td>2</td>\n",
       "      <td>4.9</td>\n",
       "      <td>3.0</td>\n",
       "      <td>1.4</td>\n",
       "      <td>0.2</td>\n",
       "      <td>1</td>\n",
       "    </tr>\n",
       "    <tr>\n",
       "      <th>2</th>\n",
       "      <td>3</td>\n",
       "      <td>4.7</td>\n",
       "      <td>3.2</td>\n",
       "      <td>1.3</td>\n",
       "      <td>0.2</td>\n",
       "      <td>1</td>\n",
       "    </tr>\n",
       "    <tr>\n",
       "      <th>3</th>\n",
       "      <td>4</td>\n",
       "      <td>4.6</td>\n",
       "      <td>3.1</td>\n",
       "      <td>1.5</td>\n",
       "      <td>0.2</td>\n",
       "      <td>1</td>\n",
       "    </tr>\n",
       "    <tr>\n",
       "      <th>4</th>\n",
       "      <td>5</td>\n",
       "      <td>5.0</td>\n",
       "      <td>3.6</td>\n",
       "      <td>1.4</td>\n",
       "      <td>0.2</td>\n",
       "      <td>1</td>\n",
       "    </tr>\n",
       "    <tr>\n",
       "      <th>...</th>\n",
       "      <td>...</td>\n",
       "      <td>...</td>\n",
       "      <td>...</td>\n",
       "      <td>...</td>\n",
       "      <td>...</td>\n",
       "      <td>...</td>\n",
       "    </tr>\n",
       "    <tr>\n",
       "      <th>145</th>\n",
       "      <td>146</td>\n",
       "      <td>6.7</td>\n",
       "      <td>3.0</td>\n",
       "      <td>5.2</td>\n",
       "      <td>2.3</td>\n",
       "      <td>3</td>\n",
       "    </tr>\n",
       "    <tr>\n",
       "      <th>146</th>\n",
       "      <td>147</td>\n",
       "      <td>6.3</td>\n",
       "      <td>2.5</td>\n",
       "      <td>5.0</td>\n",
       "      <td>1.9</td>\n",
       "      <td>3</td>\n",
       "    </tr>\n",
       "    <tr>\n",
       "      <th>147</th>\n",
       "      <td>148</td>\n",
       "      <td>6.5</td>\n",
       "      <td>3.0</td>\n",
       "      <td>5.2</td>\n",
       "      <td>2.0</td>\n",
       "      <td>3</td>\n",
       "    </tr>\n",
       "    <tr>\n",
       "      <th>148</th>\n",
       "      <td>149</td>\n",
       "      <td>6.2</td>\n",
       "      <td>3.4</td>\n",
       "      <td>5.4</td>\n",
       "      <td>2.3</td>\n",
       "      <td>3</td>\n",
       "    </tr>\n",
       "    <tr>\n",
       "      <th>149</th>\n",
       "      <td>150</td>\n",
       "      <td>5.9</td>\n",
       "      <td>3.0</td>\n",
       "      <td>5.1</td>\n",
       "      <td>1.8</td>\n",
       "      <td>3</td>\n",
       "    </tr>\n",
       "  </tbody>\n",
       "</table>\n",
       "<p>150 rows × 6 columns</p>\n",
       "</div>"
      ],
      "text/plain": [
       "      Id  SepalLengthCm  SepalWidthCm  PetalLengthCm  PetalWidthCm Species\n",
       "0      1            5.1           3.5            1.4           0.2       1\n",
       "1      2            4.9           3.0            1.4           0.2       1\n",
       "2      3            4.7           3.2            1.3           0.2       1\n",
       "3      4            4.6           3.1            1.5           0.2       1\n",
       "4      5            5.0           3.6            1.4           0.2       1\n",
       "..   ...            ...           ...            ...           ...     ...\n",
       "145  146            6.7           3.0            5.2           2.3       3\n",
       "146  147            6.3           2.5            5.0           1.9       3\n",
       "147  148            6.5           3.0            5.2           2.0       3\n",
       "148  149            6.2           3.4            5.4           2.3       3\n",
       "149  150            5.9           3.0            5.1           1.8       3\n",
       "\n",
       "[150 rows x 6 columns]"
      ]
     },
     "execution_count": 96,
     "metadata": {},
     "output_type": "execute_result"
    }
   ],
   "source": [
    "iris"
   ]
  },
  {
   "cell_type": "code",
   "execution_count": 97,
   "metadata": {},
   "outputs": [],
   "source": [
    "x=iris.drop(['Id','Species'], axis=1)\n",
    "y=iris['Species']"
   ]
  },
  {
   "cell_type": "code",
   "execution_count": 98,
   "metadata": {},
   "outputs": [],
   "source": [
    "X_train,X_test,y_train,y_test= train_test_split(x,y, test_size=0.3, stratify=y )"
   ]
  },
  {
   "cell_type": "code",
   "execution_count": 99,
   "metadata": {},
   "outputs": [
    {
     "name": "stdout",
     "output_type": "stream",
     "text": [
      "<class 'pandas.core.frame.DataFrame'>\n",
      "<class 'pandas.core.frame.DataFrame'>\n",
      "<class 'pandas.core.series.Series'>\n",
      "<class 'pandas.core.series.Series'>\n"
     ]
    }
   ],
   "source": [
    "print(type(X_train))\n",
    "print(type(X_test))\n",
    "print(type(y_train))\n",
    "print(type(y_test))"
   ]
  },
  {
   "cell_type": "code",
   "execution_count": 100,
   "metadata": {},
   "outputs": [
    {
     "data": {
      "text/plain": [
       "100    3\n",
       "115    3\n",
       "136    3\n",
       "48     1\n",
       "27     1\n",
       "      ..\n",
       "89     2\n",
       "124    3\n",
       "135    3\n",
       "11     1\n",
       "149    3\n",
       "Name: Species, Length: 105, dtype: object"
      ]
     },
     "execution_count": 100,
     "metadata": {},
     "output_type": "execute_result"
    }
   ],
   "source": [
    "y_train"
   ]
  },
  {
   "cell_type": "code",
   "execution_count": 101,
   "metadata": {},
   "outputs": [
    {
     "data": {
      "text/plain": [
       "34     1\n",
       "98     2\n",
       "102    3\n",
       "19     1\n",
       "46     1\n",
       "92     2\n",
       "145    3\n",
       "141    3\n",
       "18     1\n",
       "85     2\n",
       "45     1\n",
       "68     2\n",
       "109    3\n",
       "47     1\n",
       "106    3\n",
       "67     2\n",
       "62     2\n",
       "72     2\n",
       "132    3\n",
       "91     2\n",
       "81     2\n",
       "73     2\n",
       "139    3\n",
       "120    3\n",
       "126    3\n",
       "138    3\n",
       "1      1\n",
       "75     2\n",
       "103    3\n",
       "116    3\n",
       "31     1\n",
       "113    3\n",
       "24     1\n",
       "131    3\n",
       "66     2\n",
       "36     1\n",
       "142    3\n",
       "5      1\n",
       "9      1\n",
       "2      1\n",
       "65     2\n",
       "7      1\n",
       "84     2\n",
       "77     2\n",
       "37     1\n",
       "Name: Species, dtype: object"
      ]
     },
     "execution_count": 101,
     "metadata": {},
     "output_type": "execute_result"
    }
   ],
   "source": [
    "y_test"
   ]
  },
  {
   "cell_type": "code",
   "execution_count": 102,
   "metadata": {},
   "outputs": [],
   "source": [
    "def euclidean_distance(p:np.ndarray,q:np.ndarray):\n",
    "    return np.sqrt(np.sum((p-q)**2))\n"
   ]
  },
  {
   "cell_type": "code",
   "execution_count": 103,
   "metadata": {},
   "outputs": [],
   "source": [
    "def pred(x,x_train,y_train,k):\n",
    "    dist=[]\n",
    "    for i,row in x_train.iterrows():\n",
    "        dist.append(euclidean_distance(row,x))\n",
    "    dist2=np.argsort(dist)[:k]\n",
    "    k_nearest_labels = []\n",
    "    for i in dist2:\n",
    "      k_nearest_labels.append(y_train.iloc[i])\n",
    "    return np.bincount(k_nearest_labels).argmax()\n",
    "    \n",
    "def pred_all(test,train,y_train,k):\n",
    "    pred_todos=[]\n",
    "    for i, row in test.iterrows():\n",
    "        pred_todos.append(pred(row,train,y_train,k))\n",
    "    return pred_todos\n",
    "#    return np.array(y_pred)\n",
    "        \n"
   ]
  },
  {
   "cell_type": "code",
   "execution_count": 104,
   "metadata": {},
   "outputs": [],
   "source": [
    "ans1=pred_all(X_test,X_train,y_train,5)\n",
    "ans2=pred_all(X_test,X_train,y_train,3)\n",
    "ans3=pred_all(X_test,X_train,y_train,1)"
   ]
  },
  {
   "cell_type": "code",
   "execution_count": null,
   "metadata": {},
   "outputs": [],
   "source": [
    "y_test=y_test.astype(int)"
   ]
  },
  {
   "cell_type": "code",
   "execution_count": 124,
   "metadata": {},
   "outputs": [],
   "source": [
    "precision1= skm.precision_score(ans1,y_test,average='weighted')\n",
    "precision2= skm.precision_score(ans2,y_test,average='weighted')\n",
    "precision3= skm.precision_score(ans3,y_test,average='weighted')"
   ]
  },
  {
   "cell_type": "code",
   "execution_count": 131,
   "metadata": {},
   "outputs": [
    {
     "name": "stdout",
     "output_type": "stream",
     "text": [
      "Precision score with k=5: 93.0 %\n",
      "Precision score with k=3: 96.0 %\n",
      "Precision score with k=1: 96.0 %\n"
     ]
    }
   ],
   "source": [
    "print(\"Precision score with k=5:\",round(precision1,2)*100,\"%\")\n",
    "print(\"Precision score with k=3:\",round(precision2,2)*100,\"%\")\n",
    "print(\"Precision score with k=1:\",round(precision3,2)*100,\"%\")"
   ]
  },
  {
   "cell_type": "code",
   "execution_count": 145,
   "metadata": {},
   "outputs": [
    {
     "name": "stdout",
     "output_type": "stream",
     "text": [
      "Exactitud para k=5 93.0 %\n",
      "Exactitud para k=3 96.0 %\n",
      "Exactitud para k=1 96.0 %\n"
     ]
    }
   ],
   "source": [
    "exactitud=skm.accuracy_score(ans1,y_test)\n",
    "exactitud2=skm.accuracy_score(ans2,y_test)\n",
    "exactitud3=skm.accuracy_score(ans3,y_test)\n",
    "\n",
    "print(\"Exactitud para k=5\",round(exactitud,2)*100,\"%\")\n",
    "print(\"Exactitud para k=3\",round(exactitud2,2)*100,\"%\")\n",
    "print(\"Exactitud para k=1\",round(exactitud3,2)*100,\"%\")"
   ]
  },
  {
   "cell_type": "code",
   "execution_count": 146,
   "metadata": {},
   "outputs": [
    {
     "name": "stdout",
     "output_type": "stream",
     "text": [
      "Sensibilidad para k=5 93.0 %\n",
      "Sensibilidad para k=3 96.0 %\n",
      "Sensibilidad para k=1 96.0 %\n"
     ]
    }
   ],
   "source": [
    "sensibilidad=skm.recall_score(ans1,y_test,average='weighted')\n",
    "sensibilidad2=skm.recall_score(ans2,y_test,average='weighted')\n",
    "sensibilidad3=skm.recall_score(ans3,y_test,average='weighted')\n",
    "print(\"Sensibilidad para k=5\",round(sensibilidad,2)*100,\"%\")\n",
    "print(\"Sensibilidad para k=3\",round(sensibilidad2,2)*100,\"%\")\n",
    "print(\"Sensibilidad para k=1\",round(sensibilidad3,2)*100,\"%\")"
   ]
  },
  {
   "cell_type": "code",
   "execution_count": 148,
   "metadata": {},
   "outputs": [
    {
     "name": "stdout",
     "output_type": "stream",
     "text": [
      "F1-score para k=5 93.0 %\n",
      "F1-score para k=3 96.0 %\n",
      "F1-score para k=1 96.0 %\n"
     ]
    }
   ],
   "source": [
    "puntaje=skm.f1_score(ans1,y_test,average='weighted')\n",
    "puntaje2=skm.f1_score(ans2,y_test,average='weighted')\n",
    "puntaje3=skm.f1_score(ans3,y_test,average='weighted')\n",
    "print(\"F1-score para k=5\",round(puntaje,2)*100,\"%\")\n",
    "print(\"F1-score para k=3\",round(puntaje2,2)*100,\"%\")\n",
    "print(\"F1-score para k=1\",round(puntaje3,2)*100,\"%\")"
   ]
  },
  {
   "cell_type": "code",
   "execution_count": null,
   "metadata": {},
   "outputs": [],
   "source": []
  }
 ],
 "metadata": {
  "kernelspec": {
   "display_name": "base",
   "language": "python",
   "name": "python3"
  },
  "language_info": {
   "codemirror_mode": {
    "name": "ipython",
    "version": 3
   },
   "file_extension": ".py",
   "mimetype": "text/x-python",
   "name": "python",
   "nbconvert_exporter": "python",
   "pygments_lexer": "ipython3",
   "version": "3.10.9"
  }
 },
 "nbformat": 4,
 "nbformat_minor": 2
}
