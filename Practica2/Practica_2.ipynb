{
  "cells": [
    {
      "cell_type": "markdown",
      "metadata": {
        "id": "dtLitYwMuPgi"
      },
      "source": [
        "# Desarrollo de Aplicaciones para el Análisis de Datos. - Práctica 2\n",
        "---"
      ]
    },
    {
      "cell_type": "markdown",
      "source": [
        "# Sección nueva"
      ],
      "metadata": {
        "id": "WF0kZtvyciEv"
      }
    },
    {
      "cell_type": "markdown",
      "metadata": {
        "id": "R55CXENuuPgl"
      },
      "source": [
        "Ahora es tu turno de analizar un banco de datos del mundo real que contiene datos de vuelos del Departamento de Transporte de Estados Unidos"
      ]
    },
    {
      "cell_type": "markdown",
      "metadata": {
        "id": "uH8rwAfiuPgm"
      },
      "source": [
        "Primero carga y visualiza los datos. (flights.csv)"
      ]
    },
    {
      "cell_type": "code",
      "source": [
        "from google.colab import drive\n",
        "drive.mount('/content/drive')"
      ],
      "metadata": {
        "colab": {
          "base_uri": "https://localhost:8080/"
        },
        "id": "pD-f2vx_cLB-",
        "outputId": "540107c7-9456-4c6b-b1e5-9404db202747"
      },
      "execution_count": 5,
      "outputs": [
        {
          "output_type": "stream",
          "name": "stdout",
          "text": [
            "Drive already mounted at /content/drive; to attempt to forcibly remount, call drive.mount(\"/content/drive\", force_remount=True).\n"
          ]
        }
      ]
    },
    {
      "cell_type": "code",
      "execution_count": 6,
      "metadata": {
        "id": "chQN8LsruPgm"
      },
      "outputs": [],
      "source": [
        "#Importamos las librerías necesarias y también cargamos el archivo csv\n",
        "\n",
        "import pandas as pd\n",
        "import numpy as np\n",
        "import matplotlib.pyplot as plt\n",
        "\n",
        "\n",
        "flight=pd.read_csv(\"/content/drive/MyDrive/Data_acd/flights - flights.csv\")"
      ]
    },
    {
      "cell_type": "markdown",
      "metadata": {
        "id": "0dFNUKneuPgn"
      },
      "source": [
        "El banco de datos contiene observaciones de los vuelos nacionales estadounidenses en 2013 y consta de los siguientes campos:\n",
        "- **Año**: El año del vuelo (todos los registros son de 2013).\n",
        "- **Mes**: El mes del vuelo\n",
        "- **DayofMonth** (día del mes): El día del mes en el que salió el vuelo\n",
        "- **Día de la semana**: El día de la semana en que salió el vuelo - del 1 (lunes) al 7 (domingo)\n",
        "- **Compañía aérea**: La abreviatura de dos letras de la compañía aérea.\n",
        "- **OriginAirportID**: Identificador numérico único del aeropuerto de salida.\n",
        "- **OriginAirportName**: El nombre completo del aeropuerto de salida\n",
        "- **OriginCity** (Ciudad de origen): Ciudad del aeropuerto de salida\n",
        "- **OriginState**: Estado del aeropuerto de salida Estado del aeropuerto de salida\n",
        "- **DestAirportID**: Identificador numérico único del aeropuerto de destino\n",
        "- **DestAirportName**: El nombre completo del aeropuerto de destino\n",
        "- **DestCity**: La ciudad del aeropuerto de destino\n",
        "- **DestState**: El estado del aeropuerto de destino\n",
        "- **CRSDepTime**: La hora de salida programada\n",
        "- **DepDelay**: El número de minutos que se retrasó la salida (los vuelos que salieron antes de lo previsto tienen un valor negativo)\n",
        "- **DelDelay15**: Un indicador binario de que la salida se retrasó más de 15 minutos (y por lo tanto se considera \"tarde\")\n",
        "- **CRSArrTime**: La hora de llegada programada\n",
        "- **ArrDelay**: El número de minutos que se retrasó la lleg"
      ]
    },
    {
      "cell_type": "markdown",
      "metadata": {
        "id": "0wCuHt0vuPgn"
      },
      "source": [
        "Lo que se tiene que hacer en esta práctica es explorar los datos de vuelo para analizar los posibles factores que afectan a los retrasos en la salida o llegada de un vuelo."
      ]
    },
    {
      "cell_type": "markdown",
      "metadata": {
        "id": "C64i7Qz1uPgn"
      },
      "source": [
        " 1. Empieza con limpiar los datos.\n",
        "     - Identifica los datos nulos o ausentes e imputa los valores de sustitución adecuados.\n",
        "     - Identifica y elimina cualquier valor atípico en las columnas *DepDelay* y *ArrDelay*.\n",
        "             - Tips:\n",
        "            - Primero visualiza la distribución de las columnas\n",
        "            - Define donde se observan los valores atipicos\n",
        "            - Recorta los datos de tal forma que los percentiles esten entre 1 y 90\n",
        " 2. Explora los datos limpios.\n",
        "     - Consulta las estadísticas de resumen de los campos numéricos del conjunto de datos.\n",
        "     - Determina la distribución de las columnas *DepDelay* y *ArrDelay*.\n",
        "     - Utiliza estadísticas, funciones de agregación y visualización para responder a las siguientes preguntas:\n",
        "         - *¿Cuáles son los promedios (mean) de salida y llegada?*\n",
        "         - *¿Cómo se comparan las compañías en cuanto a retrasos en las llegadas?*\n",
        "         - *¿Hay días de la semana más propensos a las llegadas que otros?*\n",
        "         - *¿Cuál es el aeropuerto de salida con mayor retraso medio?*\n",
        "         - *¿Las salidas tardías suelen provocar mayores retrasos en las llegadas que las salidas puntuales?*\n",
        "         - *¿Qué ruta (del aeropuerto de origen al aeropuerto de destino) tiene más llegadas con retraso?*\n",
        "         - *¿Qué ruta tiene el mayor retraso medio de llegada?*"
      ]
    },
    {
      "cell_type": "code",
      "execution_count": 7,
      "metadata": {
        "id": "ZgXjSHtxuPgo",
        "colab": {
          "base_uri": "https://localhost:8080/"
        },
        "outputId": "5b597248-0c8b-4db6-e9ec-6c8a6223206c"
      },
      "outputs": [
        {
          "output_type": "execute_result",
          "data": {
            "text/plain": [
              "Year                    0\n",
              "Month                   0\n",
              "DayofMonth              0\n",
              "DayOfWeek               0\n",
              "Carrier                 0\n",
              "OriginAirportID         0\n",
              "OriginAirportName       0\n",
              "OriginCity              0\n",
              "OriginState             0\n",
              "DestAirportID           0\n",
              "DestAirportName         0\n",
              "DestCity                0\n",
              "DestState               0\n",
              "CRSDepTime              0\n",
              "DepDelay                0\n",
              "DepDel15             1405\n",
              "CRSArrTime              0\n",
              "ArrDelay                0\n",
              "ArrDel15                0\n",
              "Cancelled               0\n",
              "dtype: int64"
            ]
          },
          "metadata": {},
          "execution_count": 7
        }
      ],
      "source": [
        "#Encontramos todos los valores nulos y  en que columnas se encuentran\n",
        "\n",
        "flight.isnull().sum()"
      ]
    },
    {
      "cell_type": "markdown",
      "source": [],
      "metadata": {
        "id": "O3y8J9KfWbsl"
      }
    },
    {
      "cell_type": "code",
      "source": [
        "\n",
        "#Cuáles son los valores que contiene esa columna\n",
        "flight['DepDel15'].value_counts()"
      ],
      "metadata": {
        "colab": {
          "base_uri": "https://localhost:8080/"
        },
        "id": "pH7RhWvVXloo",
        "outputId": "c452dea3-73e9-47ca-ccfb-667ba93d713e"
      },
      "execution_count": 8,
      "outputs": [
        {
          "output_type": "execute_result",
          "data": {
            "text/plain": [
              "0.0    112241\n",
              "1.0     28432\n",
              "Name: DepDel15, dtype: int64"
            ]
          },
          "metadata": {},
          "execution_count": 8
        }
      ]
    },
    {
      "cell_type": "code",
      "source": [
        "#Localizamos los patrones que tienen valores nulos y les modificamos su valor\n",
        "flight.loc[(flight['DepDel15'].isnull()) & (flight['DepDelay']>=15),'DepDel15']=1\n",
        "flight.loc[(flight['DepDel15'].isnull()) & (flight['DepDelay']<15),'DepDel15']=0"
      ],
      "metadata": {
        "id": "9ymRvrvBYDOP"
      },
      "execution_count": 9,
      "outputs": []
    },
    {
      "cell_type": "code",
      "source": [
        "#Verificamos que efectivamente se hayan modificado\n",
        "flight.isnull().sum()"
      ],
      "metadata": {
        "colab": {
          "base_uri": "https://localhost:8080/"
        },
        "id": "3UzHkBhXZLZK",
        "outputId": "458825d6-7754-4c9d-b810-13c924376fe6"
      },
      "execution_count": 10,
      "outputs": [
        {
          "output_type": "execute_result",
          "data": {
            "text/plain": [
              "Year                 0\n",
              "Month                0\n",
              "DayofMonth           0\n",
              "DayOfWeek            0\n",
              "Carrier              0\n",
              "OriginAirportID      0\n",
              "OriginAirportName    0\n",
              "OriginCity           0\n",
              "OriginState          0\n",
              "DestAirportID        0\n",
              "DestAirportName      0\n",
              "DestCity             0\n",
              "DestState            0\n",
              "CRSDepTime           0\n",
              "DepDelay             0\n",
              "DepDel15             0\n",
              "CRSArrTime           0\n",
              "ArrDelay             0\n",
              "ArrDel15             0\n",
              "Cancelled            0\n",
              "dtype: int64"
            ]
          },
          "metadata": {},
          "execution_count": 10
        }
      ]
    },
    {
      "cell_type": "code",
      "source": [
        "#Observamos como esta distribuidas las tablas DepDelay y ArrDelay\n",
        "import seaborn as sns\n",
        "\n",
        "#Creamos el espacio para poder realizar 2 boxplots\n",
        "fig, ejes = plt.subplots(1, 2, figsize = (8,4))\n",
        "\n",
        "#Aqui creamos cada boxplot y en el parametro ax le mandamos ejes[0] o ejes[1]\n",
        "sns.boxplot(data=flight['DepDelay'], ax=ejes[0])\n",
        "sns.boxplot(data=flight['ArrDelay'], ax=ejes[1])\n",
        "\n",
        "#Nombramos los ejes x de cada boxplot\n",
        "ejes[0].set_xlabel(\"Departure Delays\")\n",
        "ejes[1].set_xlabel(\"Arival Delays\")\n",
        "plt.tight_layout()\n",
        "\n",
        "plt.show()"
      ],
      "metadata": {
        "colab": {
          "base_uri": "https://localhost:8080/",
          "height": 407
        },
        "id": "tFMbg321ZNd9",
        "outputId": "643f822b-9c33-4319-a435-1099ec10726e"
      },
      "execution_count": 11,
      "outputs": [
        {
          "output_type": "display_data",
          "data": {
            "text/plain": [
              "<Figure size 800x400 with 2 Axes>"
            ],
            "image/png": "[encoded data removed]"
          },
          "metadata": {}
        }
      ]
    },
    {
      "cell_type": "code",
      "source": [
        "#Utilizamos la funcion percentile de numpy para poder recortar los datos en sus percentiles 1 y 90\n",
        "\n",
        "DepDelay_percentil_1 = np.percentile(flight['DepDelay'], 1)\n",
        "DepDelay_percentil_90 = np.percentile(flight['DepDelay'], 90)\n",
        "\n",
        "ArrDelay_percentil_1 = np.percentile(flight['ArrDelay'], 1)\n",
        "ArrDelay_percentil_90 = np.percentile(flight['ArrDelay'], 90)\n",
        "\n",
        "#Creamo un nuevo dataframe con los datos recortados\n",
        "datos_recortados = flight[(flight['DepDelay'] >= DepDelay_percentil_1 ) & (flight['DepDelay'] <= DepDelay_percentil_90) & (flight['ArrDelay']>= ArrDelay_percentil_1) & (flight['ArrDelay']<= ArrDelay_percentil_90) ]"
      ],
      "metadata": {
        "id": "lm3Lil0pd4dR"
      },
      "execution_count": 12,
      "outputs": []
    },
    {
      "cell_type": "code",
      "source": [
        "#Mostrar como se ven los datos de manera recortada\n",
        "datos_recortados.head()"
      ],
      "metadata": {
        "colab": {
          "base_uri": "https://localhost:8080/",
          "height": 326
        },
        "id": "vYOc4UsJfhzx",
        "outputId": "5a011152-3668-4499-9394-d2c37a90918d"
      },
      "execution_count": 13,
      "outputs": [
        {
          "output_type": "execute_result",
          "data": {
            "text/plain": [
              "   Year  Month  DayofMonth  DayOfWeek Carrier  OriginAirportID  \\\n",
              "0  2013      9          16          1      DL            15304   \n",
              "1  2013      9          23          1      WN            14122   \n",
              "2  2013      9           7          6      AS            14747   \n",
              "3  2013      7          22          1      OO            13930   \n",
              "4  2013      5          16          4      DL            13931   \n",
              "\n",
              "              OriginAirportName  OriginCity OriginState  DestAirportID  \\\n",
              "0           Tampa International       Tampa          FL          12478   \n",
              "1      Pittsburgh International  Pittsburgh          PA          13232   \n",
              "2  Seattle/Tacoma International     Seattle          WA          11278   \n",
              "3  Chicago O'Hare International     Chicago          IL          11042   \n",
              "4         Norfolk International     Norfolk          VA          10397   \n",
              "\n",
              "                            DestAirportName    DestCity DestState  CRSDepTime  \\\n",
              "0             John F. Kennedy International    New York        NY        1539   \n",
              "1              Chicago Midway International     Chicago        IL         710   \n",
              "2         Ronald Reagan Washington National  Washington        DC         810   \n",
              "3           Cleveland-Hopkins International   Cleveland        OH         804   \n",
              "4  Hartsfield-Jackson Atlanta International     Atlanta        GA         545   \n",
              "\n",
              "   DepDelay  DepDel15  CRSArrTime  ArrDelay  ArrDel15  Cancelled  \n",
              "0         4       0.0        1824        13         0          0  \n",
              "1         3       0.0         740        22         1          0  \n",
              "2        -3       0.0        1614        -7         0          0  \n",
              "3        35       1.0        1027        33         1          0  \n",
              "4        -1       0.0         728        -9         0          0  "
            ],
            "text/html": [
              "\n",
              "  <div id=\"df-cf42a2fd-7ab6-4138-844d-97868d603bf3\" class=\"colab-df-container\">\n",
              "    <div>\n",
              "<style scoped>\n",
              "    .dataframe tbody tr th:only-of-type {\n",
              "        vertical-align: middle;\n",
              "    }\n",
              "\n",
              "    .dataframe tbody tr th {\n",
              "        vertical-align: top;\n",
              "    }\n",
              "\n",
              "    .dataframe thead th {\n",
              "        text-align: right;\n",
              "    }\n",
              "</style>\n",
              "<table border=\"1\" class=\"dataframe\">\n",
              "  <thead>\n",
              "    <tr style=\"text-align: right;\">\n",
              "      <th></th>\n",
              "      <th>Year</th>\n",
              "      <th>Month</th>\n",
              "      <th>DayofMonth</th>\n",
              "      <th>DayOfWeek</th>\n",
              "      <th>Carrier</th>\n",
              "      <th>OriginAirportID</th>\n",
              "      <th>OriginAirportName</th>\n",
              "      <th>OriginCity</th>\n",
              "      <th>OriginState</th>\n",
              "      <th>DestAirportID</th>\n",
              "      <th>DestAirportName</th>\n",
              "      <th>DestCity</th>\n",
              "      <th>DestState</th>\n",
              "      <th>CRSDepTime</th>\n",
              "      <th>DepDelay</th>\n",
              "      <th>DepDel15</th>\n",
              "      <th>CRSArrTime</th>\n",
              "      <th>ArrDelay</th>\n",
              "      <th>ArrDel15</th>\n",
              "      <th>Cancelled</th>\n",
              "    </tr>\n",
              "  </thead>\n",
              "  <tbody>\n",
              "    <tr>\n",
              "      <th>0</th>\n",
              "      <td>2013</td>\n",
              "      <td>9</td>\n",
              "      <td>16</td>\n",
              "      <td>1</td>\n",
              "      <td>DL</td>\n",
              "      <td>15304</td>\n",
              "      <td>Tampa International</td>\n",
              "      <td>Tampa</td>\n",
              "      <td>FL</td>\n",
              "      <td>12478</td>\n",
              "      <td>John F. Kennedy International</td>\n",
              "      <td>New York</td>\n",
              "      <td>NY</td>\n",
              "      <td>1539</td>\n",
              "      <td>4</td>\n",
              "      <td>0.0</td>\n",
              "      <td>1824</td>\n",
              "      <td>13</td>\n",
              "      <td>0</td>\n",
              "      <td>0</td>\n",
              "    </tr>\n",
              "    <tr>\n",
              "      <th>1</th>\n",
              "      <td>2013</td>\n",
              "      <td>9</td>\n",
              "      <td>23</td>\n",
              "      <td>1</td>\n",
              "      <td>WN</td>\n",
              "      <td>14122</td>\n",
              "      <td>Pittsburgh International</td>\n",
              "      <td>Pittsburgh</td>\n",
              "      <td>PA</td>\n",
              "      <td>13232</td>\n",
              "      <td>Chicago Midway International</td>\n",
              "      <td>Chicago</td>\n",
              "      <td>IL</td>\n",
              "      <td>710</td>\n",
              "      <td>3</td>\n",
              "      <td>0.0</td>\n",
              "      <td>740</td>\n",
              "      <td>22</td>\n",
              "      <td>1</td>\n",
              "      <td>0</td>\n",
              "    </tr>\n",
              "    <tr>\n",
              "      <th>2</th>\n",
              "      <td>2013</td>\n",
              "      <td>9</td>\n",
              "      <td>7</td>\n",
              "      <td>6</td>\n",
              "      <td>AS</td>\n",
              "      <td>14747</td>\n",
              "      <td>Seattle/Tacoma International</td>\n",
              "      <td>Seattle</td>\n",
              "      <td>WA</td>\n",
              "      <td>11278</td>\n",
              "      <td>Ronald Reagan Washington National</td>\n",
              "      <td>Washington</td>\n",
              "      <td>DC</td>\n",
              "      <td>810</td>\n",
              "      <td>-3</td>\n",
              "      <td>0.0</td>\n",
              "      <td>1614</td>\n",
              "      <td>-7</td>\n",
              "      <td>0</td>\n",
              "      <td>0</td>\n",
              "    </tr>\n",
              "    <tr>\n",
              "      <th>3</th>\n",
              "      <td>2013</td>\n",
              "      <td>7</td>\n",
              "      <td>22</td>\n",
              "      <td>1</td>\n",
              "      <td>OO</td>\n",
              "      <td>13930</td>\n",
              "      <td>Chicago O'Hare International</td>\n",
              "      <td>Chicago</td>\n",
              "      <td>IL</td>\n",
              "      <td>11042</td>\n",
              "      <td>Cleveland-Hopkins International</td>\n",
              "      <td>Cleveland</td>\n",
              "      <td>OH</td>\n",
              "      <td>804</td>\n",
              "      <td>35</td>\n",
              "      <td>1.0</td>\n",
              "      <td>1027</td>\n",
              "      <td>33</td>\n",
              "      <td>1</td>\n",
              "      <td>0</td>\n",
              "    </tr>\n",
              "    <tr>\n",
              "      <th>4</th>\n",
              "      <td>2013</td>\n",
              "      <td>5</td>\n",
              "      <td>16</td>\n",
              "      <td>4</td>\n",
              "      <td>DL</td>\n",
              "      <td>13931</td>\n",
              "      <td>Norfolk International</td>\n",
              "      <td>Norfolk</td>\n",
              "      <td>VA</td>\n",
              "      <td>10397</td>\n",
              "      <td>Hartsfield-Jackson Atlanta International</td>\n",
              "      <td>Atlanta</td>\n",
              "      <td>GA</td>\n",
              "      <td>545</td>\n",
              "      <td>-1</td>\n",
              "      <td>0.0</td>\n",
              "      <td>728</td>\n",
              "      <td>-9</td>\n",
              "      <td>0</td>\n",
              "      <td>0</td>\n",
              "    </tr>\n",
              "  </tbody>\n",
              "</table>\n",
              "</div>\n",
              "    <div class=\"colab-df-buttons\">\n",
              "\n",
              "  <div class=\"colab-df-container\">\n",
              "    <button class=\"colab-df-convert\" onclick=\"convertToInteractive('df-cf42a2fd-7ab6-4138-844d-97868d603bf3')\"\n",
              "            title=\"Convert this dataframe to an interactive table.\"\n",
              "            style=\"display:none;\">\n",
              "\n",
              "  <svg xmlns=\"http://www.w3.org/2000/svg\" height=\"24px\" viewBox=\"0 -960 960 960\">\n",
              "    <path d=\"M120-120v-720h720v720H120Zm60-500h600v-160H180v160Zm220 220h160v-160H400v160Zm0 220h160v-160H400v160ZM180-400h160v-160H180v160Zm440 0h160v-160H620v160ZM180-180h160v-160H180v160Zm440 0h160v-160H620v160Z\"/>\n",
              "  </svg>\n",
              "    </button>\n",
              "\n",
              "  <style>\n",
              "    .colab-df-container {\n",
              "      display:flex;\n",
              "      gap: 12px;\n",
              "    }\n",
              "\n",
              "    .colab-df-convert {\n",
              "      background-color: #E8F0FE;\n",
              "      border: none;\n",
              "      border-radius: 50%;\n",
              "      cursor: pointer;\n",
              "      display: none;\n",
              "      fill: #1967D2;\n",
              "      height: 32px;\n",
              "      padding: 0 0 0 0;\n",
              "      width: 32px;\n",
              "    }\n",
              "\n",
              "    .colab-df-convert:hover {\n",
              "      background-color: #E2EBFA;\n",
              "      box-shadow: 0px 1px 2px rgba(60, 64, 67, 0.3), 0px 1px 3px 1px rgba(60, 64, 67, 0.15);\n",
              "      fill: #174EA6;\n",
              "    }\n",
              "\n",
              "    .colab-df-buttons div {\n",
              "      margin-bottom: 4px;\n",
              "    }\n",
              "\n",
              "    [theme=dark] .colab-df-convert {\n",
              "      background-color: #3B4455;\n",
              "      fill: #D2E3FC;\n",
              "    }\n",
              "\n",
              "    [theme=dark] .colab-df-convert:hover {\n",
              "      background-color: #434B5C;\n",
              "      box-shadow: 0px 1px 3px 1px rgba(0, 0, 0, 0.15);\n",
              "      filter: drop-shadow(0px 1px 2px rgba(0, 0, 0, 0.3));\n",
              "      fill: #FFFFFF;\n",
              "    }\n",
              "  </style>\n",
              "\n",
              "    <script>\n",
              "      const buttonEl =\n",
              "        document.querySelector('#df-cf42a2fd-7ab6-4138-844d-97868d603bf3 button.colab-df-convert');\n",
              "      buttonEl.style.display =\n",
              "        google.colab.kernel.accessAllowed ? 'block' : 'none';\n",
              "\n",
              "      async function convertToInteractive(key) {\n",
              "        const element = document.querySelector('#df-cf42a2fd-7ab6-4138-844d-97868d603bf3');\n",
              "        const dataTable =\n",
              "          await google.colab.kernel.invokeFunction('convertToInteractive',\n",
              "                                                    [key], {});\n",
              "        if (!dataTable) return;\n",
              "\n",
              "        const docLinkHtml = 'Like what you see? Visit the ' +\n",
              "          '<a target=\"_blank\" href=https://colab.research.google.com/notebooks/data_table.ipynb>data table notebook</a>'\n",
              "          + ' to learn more about interactive tables.';\n",
              "        element.innerHTML = '';\n",
              "        dataTable['output_type'] = 'display_data';\n",
              "        await google.colab.output.renderOutput(dataTable, element);\n",
              "        const docLink = document.createElement('div');\n",
              "        docLink.innerHTML = docLinkHtml;\n",
              "        element.appendChild(docLink);\n",
              "      }\n",
              "    </script>\n",
              "  </div>\n",
              "\n",
              "\n",
              "<div id=\"df-444e5733-d031-49f4-a8e6-62ae84faea80\">\n",
              "  <button class=\"colab-df-quickchart\" onclick=\"quickchart('df-444e5733-d031-49f4-a8e6-62ae84faea80')\"\n",
              "            title=\"Suggest charts.\"\n",
              "            style=\"display:none;\">\n",
              "\n",
              "<svg xmlns=\"http://www.w3.org/2000/svg\" height=\"24px\"viewBox=\"0 0 24 24\"\n",
              "     width=\"24px\">\n",
              "    <g>\n",
              "        <path d=\"M19 3H5c-1.1 0-2 .9-2 2v14c0 1.1.9 2 2 2h14c1.1 0 2-.9 2-2V5c0-1.1-.9-2-2-2zM9 17H7v-7h2v7zm4 0h-2V7h2v10zm4 0h-2v-4h2v4z\"/>\n",
              "    </g>\n",
              "</svg>\n",
              "  </button>\n",
              "\n",
              "<style>\n",
              "  .colab-df-quickchart {\n",
              "      --bg-color: #E8F0FE;\n",
              "      --fill-color: #1967D2;\n",
              "      --hover-bg-color: #E2EBFA;\n",
              "      --hover-fill-color: #174EA6;\n",
              "      --disabled-fill-color: #AAA;\n",
              "      --disabled-bg-color: #DDD;\n",
              "  }\n",
              "\n",
              "  [theme=dark] .colab-df-quickchart {\n",
              "      --bg-color: #3B4455;\n",
              "      --fill-color: #D2E3FC;\n",
              "      --hover-bg-color: #434B5C;\n",
              "      --hover-fill-color: #FFFFFF;\n",
              "      --disabled-bg-color: #3B4455;\n",
              "      --disabled-fill-color: #666;\n",
              "  }\n",
              "\n",
              "  .colab-df-quickchart {\n",
              "    background-color: var(--bg-color);\n",
              "    border: none;\n",
              "    border-radius: 50%;\n",
              "    cursor: pointer;\n",
              "    display: none;\n",
              "    fill: var(--fill-color);\n",
              "    height: 32px;\n",
              "    padding: 0;\n",
              "    width: 32px;\n",
              "  }\n",
              "\n",
              "  .colab-df-quickchart:hover {\n",
              "    background-color: var(--hover-bg-color);\n",
              "    box-shadow: 0 1px 2px rgba(60, 64, 67, 0.3), 0 1px 3px 1px rgba(60, 64, 67, 0.15);\n",
              "    fill: var(--button-hover-fill-color);\n",
              "  }\n",
              "\n",
              "  .colab-df-quickchart-complete:disabled,\n",
              "  .colab-df-quickchart-complete:disabled:hover {\n",
              "    background-color: var(--disabled-bg-color);\n",
              "    fill: var(--disabled-fill-color);\n",
              "    box-shadow: none;\n",
              "  }\n",
              "\n",
              "  .colab-df-spinner {\n",
              "    border: 2px solid var(--fill-color);\n",
              "    border-color: transparent;\n",
              "    border-bottom-color: var(--fill-color);\n",
              "    animation:\n",
              "      spin 1s steps(1) infinite;\n",
              "  }\n",
              "\n",
              "  @keyframes spin {\n",
              "    0% {\n",
              "      border-color: transparent;\n",
              "      border-bottom-color: var(--fill-color);\n",
              "      border-left-color: var(--fill-color);\n",
              "    }\n",
              "    20% {\n",
              "      border-color: transparent;\n",
              "      border-left-color: var(--fill-color);\n",
              "      border-top-color: var(--fill-color);\n",
              "    }\n",
              "    30% {\n",
              "      border-color: transparent;\n",
              "      border-left-color: var(--fill-color);\n",
              "      border-top-color: var(--fill-color);\n",
              "      border-right-color: var(--fill-color);\n",
              "    }\n",
              "    40% {\n",
              "      border-color: transparent;\n",
              "      border-right-color: var(--fill-color);\n",
              "      border-top-color: var(--fill-color);\n",
              "    }\n",
              "    60% {\n",
              "      border-color: transparent;\n",
              "      border-right-color: var(--fill-color);\n",
              "    }\n",
              "    80% {\n",
              "      border-color: transparent;\n",
              "      border-right-color: var(--fill-color);\n",
              "      border-bottom-color: var(--fill-color);\n",
              "    }\n",
              "    90% {\n",
              "      border-color: transparent;\n",
              "      border-bottom-color: var(--fill-color);\n",
              "    }\n",
              "  }\n",
              "</style>\n",
              "\n",
              "  <script>\n",
              "    async function quickchart(key) {\n",
              "      const quickchartButtonEl =\n",
              "        document.querySelector('#' + key + ' button');\n",
              "      quickchartButtonEl.disabled = true;  // To prevent multiple clicks.\n",
              "      quickchartButtonEl.classList.add('colab-df-spinner');\n",
              "      try {\n",
              "        const charts = await google.colab.kernel.invokeFunction(\n",
              "            'suggestCharts', [key], {});\n",
              "      } catch (error) {\n",
              "        console.error('Error during call to suggestCharts:', error);\n",
              "      }\n",
              "      quickchartButtonEl.classList.remove('colab-df-spinner');\n",
              "      quickchartButtonEl.classList.add('colab-df-quickchart-complete');\n",
              "    }\n",
              "    (() => {\n",
              "      let quickchartButtonEl =\n",
              "        document.querySelector('#df-444e5733-d031-49f4-a8e6-62ae84faea80 button');\n",
              "      quickchartButtonEl.style.display =\n",
              "        google.colab.kernel.accessAllowed ? 'block' : 'none';\n",
              "    })();\n",
              "  </script>\n",
              "</div>\n",
              "    </div>\n",
              "  </div>\n"
            ]
          },
          "metadata": {},
          "execution_count": 13
        }
      ]
    },
    {
      "cell_type": "code",
      "source": [
        "#Creamos nuevos box plot pero ahora con los datos ya recortados con los percentiles 1 y 90\n",
        "\n",
        "fig, ejes = plt.subplots(1, 2, figsize = (8,4))\n",
        "\n",
        "sns.boxplot(data=datos_recortados['DepDelay'], ax=ejes[0])\n",
        "sns.boxplot(data=datos_recortados['ArrDelay'], ax=ejes[1])\n",
        "\n",
        "ejes[0].set_xlabel(\"Departure Delays\")\n",
        "ejes[1].set_xlabel(\"Arival Delays\")\n",
        "plt.tight_layout()\n",
        "\n",
        "plt.show()"
      ],
      "metadata": {
        "colab": {
          "base_uri": "https://localhost:8080/",
          "height": 407
        },
        "id": "ZBQHh-JffjqX",
        "outputId": "76f20b6a-4dcf-4909-f08d-949dfb6dce91"
      },
      "execution_count": 14,
      "outputs": [
        {
          "output_type": "display_data",
          "data": {
            "text/plain": [
              "<Figure size 800x400 with 2 Axes>"
            ],
            "image/png": "[encoded data removed]"
          },
          "metadata": {}
        }
      ]
    },
    {
      "cell_type": "code",
      "source": [
        "#Consulta las estadísticas de resumen de los campos numéricos del conjunto de datos.\n",
        "print(datos_recortados.describe())"
      ],
      "metadata": {
        "colab": {
          "base_uri": "https://localhost:8080/"
        },
        "id": "ZB9_lcfMgmDr",
        "outputId": "993c16c5-3a91-4f30-faca-c83827d6d183"
      },
      "execution_count": 15,
      "outputs": [
        {
          "output_type": "stream",
          "name": "stdout",
          "text": [
            "           Year          Month     DayofMonth      DayOfWeek  OriginAirportID  \\\n",
            "count  123782.0  123782.000000  123782.000000  123782.000000    123782.000000   \n",
            "mean     2013.0       7.009751      15.806208       3.902886     12753.365037   \n",
            "std         0.0       1.998766       8.855072       1.995527      1507.616065   \n",
            "min      2013.0       4.000000       1.000000       1.000000     10140.000000   \n",
            "25%      2013.0       5.000000       8.000000       2.000000     11292.000000   \n",
            "50%      2013.0       7.000000      16.000000       4.000000     12892.000000   \n",
            "75%      2013.0       9.000000      24.000000       6.000000     14100.000000   \n",
            "max      2013.0      10.000000      31.000000       7.000000     15376.000000   \n",
            "\n",
            "       DestAirportID     CRSDepTime       DepDelay       DepDel15  \\\n",
            "count  123782.000000  123782.000000  123782.000000  123782.000000   \n",
            "mean    12733.927607    1298.494563       1.329911       0.106203   \n",
            "std      1505.270188     469.660650       9.356757       0.308098   \n",
            "min     10140.000000       1.000000     -12.000000       0.000000   \n",
            "25%     11292.000000     900.000000      -5.000000       0.000000   \n",
            "50%     12892.000000    1255.000000      -2.000000       0.000000   \n",
            "75%     14057.000000    1705.000000       4.000000       0.000000   \n",
            "max     15376.000000    2359.000000      37.000000       1.000000   \n",
            "\n",
            "          CRSArrTime       ArrDelay       ArrDel15      Cancelled  \n",
            "count  123782.000000  123782.000000  123782.000000  123782.000000  \n",
            "mean     1480.319255      -3.064016       0.119088       0.011803  \n",
            "std       488.283929      13.157669       0.323894       0.107999  \n",
            "min         1.000000     -33.000000       0.000000       0.000000  \n",
            "25%      1105.000000     -12.000000       0.000000       0.000000  \n",
            "50%      1503.000000      -5.000000       0.000000       0.000000  \n",
            "75%      1900.000000       4.000000       0.000000       0.000000  \n",
            "max      2359.000000      38.000000       1.000000       1.000000  \n"
          ]
        }
      ]
    },
    {
      "cell_type": "code",
      "source": [
        "#Determina la distribución de las columnas DepDelay y ArrDelay.\n",
        "\n",
        "fig, ejes = plt.subplots(1, 2, figsize = (8,4))\n",
        "\n",
        "sns.histplot(data=datos_recortados['DepDelay'], ax=ejes[0])\n",
        "sns.histplot(data=datos_recortados['ArrDelay'], ax=ejes[1])\n",
        "\n",
        "ejes[0].set_xlabel(\"Departure Delays\")\n",
        "ejes[1].set_xlabel(\"Arival Delays\")\n",
        "plt.tight_layout()\n",
        "\n",
        "plt.show()"
      ],
      "metadata": {
        "colab": {
          "base_uri": "https://localhost:8080/",
          "height": 407
        },
        "id": "6FQW4gY_gol0",
        "outputId": "c568bc7a-7867-4756-d44b-1185b9f7563c"
      },
      "execution_count": 16,
      "outputs": [
        {
          "output_type": "display_data",
          "data": {
            "text/plain": [
              "<Figure size 800x400 with 2 Axes>"
            ],
            "image/png": "[encoded data removed]"
          },
          "metadata": {}
        }
      ]
    },
    {
      "cell_type": "code",
      "source": [
        "#¿Cuáles son los promedios (mean) de salida y llegada?\n",
        "\n",
        "print(\"El promedio de retrasos en llegadas es: \",round(datos_recortados['ArrDelay'].mean(),2))\n",
        "print(\"El promedio de retrasos en salidas es: \",round(datos_recortados['DepDelay'].mean(),2))"
      ],
      "metadata": {
        "id": "GwQt1_b5g3GB",
        "colab": {
          "base_uri": "https://localhost:8080/"
        },
        "outputId": "46cb9ec9-aa11-43e0-aa9d-1e477247919b"
      },
      "execution_count": 17,
      "outputs": [
        {
          "output_type": "stream",
          "name": "stdout",
          "text": [
            "El promedio de retrasos en llegadas es:  -3.06\n",
            "El promedio de retrasos en salidas es:  1.33\n"
          ]
        }
      ]
    },
    {
      "cell_type": "code",
      "source": [
        "#¿Cómo se comparan las compañías en cuanto a retrasos en las llegadas?\n",
        "\n",
        "promedio_retraso_llegada = datos_recortados.groupby('Carrier')['ArrDelay'].mean().reset_index()\n",
        "\n",
        "\n",
        "vuelos_retrasados = datos_recortados[datos_recortados['ArrDelay'] > 0]\n",
        "total_vuelos_retrasados = vuelos_retrasados.groupby('Carrier')['ArrDelay'].count().reset_index()\n",
        "\n",
        "\n",
        "total_vuelos = datos_recortados.groupby('Carrier')['ArrDelay'].count().reset_index()\n",
        "\n",
        "\n",
        "proporcion_retrasos = total_vuelos_retrasados['ArrDelay'] / total_vuelos['ArrDelay']\n",
        "\n",
        "\n",
        "comparacion_retrasos_llegada = pd.DataFrame({\n",
        "    'Carrier': total_vuelos_retrasados['Carrier'],\n",
        "    'Promedio_Retraso_Llegada': promedio_retraso_llegada['ArrDelay'],\n",
        "    'Total_Vuelos_Retrasados': total_vuelos_retrasados['ArrDelay'],\n",
        "    'Total_Vuelos': total_vuelos['ArrDelay'],\n",
        "    'Proporcion_Retrasos': proporcion_retrasos\n",
        "})\n",
        "\n",
        "\n",
        "comparacion_retrasos_llegada = comparacion_retrasos_llegada.sort_values(by='Promedio_Retraso_Llegada', ascending=False)\n",
        "\n",
        "\n",
        "fig=sns.barplot(x=comparacion_retrasos_llegada['Carrier'],y=comparacion_retrasos_llegada['Total_Vuelos_Retrasados'])\n",
        "fig.set_xlabel(\"Compañia\")\n",
        "fig.set_ylabel(\"Total de llegadas retrasadas\")\n",
        "fig.set_title(\"Numero de llegadas retrasadas por compañia\")\n"
      ],
      "metadata": {
        "colab": {
          "base_uri": "https://localhost:8080/",
          "height": 489
        },
        "id": "r3BnJChFhZUj",
        "outputId": "6091675b-d5d3-4931-f44c-53787dc69ee9"
      },
      "execution_count": 23,
      "outputs": [
        {
          "output_type": "execute_result",
          "data": {
            "text/plain": [
              "Text(0.5, 1.0, 'Numero de llegadas retrasadas por compañia')"
            ]
          },
          "metadata": {},
          "execution_count": 23
        },
        {
          "output_type": "display_data",
          "data": {
            "text/plain": [
              "<Figure size 640x480 with 1 Axes>"
            ],
            "image/png": "[encoded data removed]"
          },
          "metadata": {}
        }
      ]
    },
    {
      "cell_type": "code",
      "source": [
        "#¿Hay días de la semana más propensos a las llegadas que otros?\n",
        "\n",
        "datos_recortados[datos_recortados['ArrDelay']>0].value_counts('DayOfWeek')\n"
      ],
      "metadata": {
        "colab": {
          "base_uri": "https://localhost:8080/"
        },
        "id": "_U8h6bOXuPuB",
        "outputId": "3e37ce14-b864-442a-dfc6-4334f23042a9"
      },
      "execution_count": 37,
      "outputs": [
        {
          "output_type": "execute_result",
          "data": {
            "text/plain": [
              "DayOfWeek\n",
              "4    6633\n",
              "5    6437\n",
              "1    6317\n",
              "3    6278\n",
              "2    5784\n",
              "7    5659\n",
              "6    4432\n",
              "dtype: int64"
            ]
          },
          "metadata": {},
          "execution_count": 37
        }
      ]
    },
    {
      "cell_type": "code",
      "source": [
        "#¿Cuál es el aeropuerto de salida con mayor retraso medio?\n",
        "airport_retraso=pd.DataFrame()\n",
        "airport_retraso=datos_recortados[(datos_recortados['DepDelay']>0)]"
      ],
      "metadata": {
        "id": "3yOmpmv0y_qK"
      },
      "execution_count": 39,
      "outputs": []
    },
    {
      "cell_type": "code",
      "source": [
        "airport_retraso.head()"
      ],
      "metadata": {
        "colab": {
          "base_uri": "https://localhost:8080/",
          "height": 309
        },
        "id": "PCjxfDK0zYZZ",
        "outputId": "8f906ff0-f04a-457f-bce6-06923925b9d4"
      },
      "execution_count": 42,
      "outputs": [
        {
          "output_type": "execute_result",
          "data": {
            "text/plain": [
              "   Year  Month  DayofMonth  DayOfWeek Carrier  OriginAirportID  \\\n",
              "0  2013      9          16          1      DL            15304   \n",
              "1  2013      9          23          1      WN            14122   \n",
              "3  2013      7          22          1      OO            13930   \n",
              "7  2013      7          28          7      EV            12264   \n",
              "8  2013     10           8          2      AA            13930   \n",
              "\n",
              "                 OriginAirportName  OriginCity OriginState  DestAirportID  \\\n",
              "0              Tampa International       Tampa          FL          12478   \n",
              "1         Pittsburgh International  Pittsburgh          PA          13232   \n",
              "3     Chicago O'Hare International     Chicago          IL          11042   \n",
              "7  Washington Dulles International  Washington          DC          14524   \n",
              "8     Chicago O'Hare International     Chicago          IL          11298   \n",
              "\n",
              "                   DestAirportName           DestCity DestState  CRSDepTime  \\\n",
              "0    John F. Kennedy International           New York        NY        1539   \n",
              "1     Chicago Midway International            Chicago        IL         710   \n",
              "3  Cleveland-Hopkins International          Cleveland        OH         804   \n",
              "7           Richmond International           Richmond        VA        2218   \n",
              "8  Dallas/Fort Worth International  Dallas/Fort Worth        TX        1010   \n",
              "\n",
              "   DepDelay  DepDel15  CRSArrTime  ArrDelay  ArrDel15  Cancelled  \n",
              "0         4       0.0        1824        13         0          0  \n",
              "1         3       0.0         740        22         1          0  \n",
              "3        35       1.0        1027        33         1          0  \n",
              "7         4       0.0        2301        15         1          0  \n",
              "8         8       0.0        1240       -10         0          0  "
            ],
            "text/html": [
              "\n",
              "  <div id=\"df-a69ff8dd-8c6f-4f68-9c6e-983cb9580598\" class=\"colab-df-container\">\n",
              "    <div>\n",
              "<style scoped>\n",
              "    .dataframe tbody tr th:only-of-type {\n",
              "        vertical-align: middle;\n",
              "    }\n",
              "\n",
              "    .dataframe tbody tr th {\n",
              "        vertical-align: top;\n",
              "    }\n",
              "\n",
              "    .dataframe thead th {\n",
              "        text-align: right;\n",
              "    }\n",
              "</style>\n",
              "<table border=\"1\" class=\"dataframe\">\n",
              "  <thead>\n",
              "    <tr style=\"text-align: right;\">\n",
              "      <th></th>\n",
              "      <th>Year</th>\n",
              "      <th>Month</th>\n",
              "      <th>DayofMonth</th>\n",
              "      <th>DayOfWeek</th>\n",
              "      <th>Carrier</th>\n",
              "      <th>OriginAirportID</th>\n",
              "      <th>OriginAirportName</th>\n",
              "      <th>OriginCity</th>\n",
              "      <th>OriginState</th>\n",
              "      <th>DestAirportID</th>\n",
              "      <th>DestAirportName</th>\n",
              "      <th>DestCity</th>\n",
              "      <th>DestState</th>\n",
              "      <th>CRSDepTime</th>\n",
              "      <th>DepDelay</th>\n",
              "      <th>DepDel15</th>\n",
              "      <th>CRSArrTime</th>\n",
              "      <th>ArrDelay</th>\n",
              "      <th>ArrDel15</th>\n",
              "      <th>Cancelled</th>\n",
              "    </tr>\n",
              "  </thead>\n",
              "  <tbody>\n",
              "    <tr>\n",
              "      <th>0</th>\n",
              "      <td>2013</td>\n",
              "      <td>9</td>\n",
              "      <td>16</td>\n",
              "      <td>1</td>\n",
              "      <td>DL</td>\n",
              "      <td>15304</td>\n",
              "      <td>Tampa International</td>\n",
              "      <td>Tampa</td>\n",
              "      <td>FL</td>\n",
              "      <td>12478</td>\n",
              "      <td>John F. Kennedy International</td>\n",
              "      <td>New York</td>\n",
              "      <td>NY</td>\n",
              "      <td>1539</td>\n",
              "      <td>4</td>\n",
              "      <td>0.0</td>\n",
              "      <td>1824</td>\n",
              "      <td>13</td>\n",
              "      <td>0</td>\n",
              "      <td>0</td>\n",
              "    </tr>\n",
              "    <tr>\n",
              "      <th>1</th>\n",
              "      <td>2013</td>\n",
              "      <td>9</td>\n",
              "      <td>23</td>\n",
              "      <td>1</td>\n",
              "      <td>WN</td>\n",
              "      <td>14122</td>\n",
              "      <td>Pittsburgh International</td>\n",
              "      <td>Pittsburgh</td>\n",
              "      <td>PA</td>\n",
              "      <td>13232</td>\n",
              "      <td>Chicago Midway International</td>\n",
              "      <td>Chicago</td>\n",
              "      <td>IL</td>\n",
              "      <td>710</td>\n",
              "      <td>3</td>\n",
              "      <td>0.0</td>\n",
              "      <td>740</td>\n",
              "      <td>22</td>\n",
              "      <td>1</td>\n",
              "      <td>0</td>\n",
              "    </tr>\n",
              "    <tr>\n",
              "      <th>3</th>\n",
              "      <td>2013</td>\n",
              "      <td>7</td>\n",
              "      <td>22</td>\n",
              "      <td>1</td>\n",
              "      <td>OO</td>\n",
              "      <td>13930</td>\n",
              "      <td>Chicago O'Hare International</td>\n",
              "      <td>Chicago</td>\n",
              "      <td>IL</td>\n",
              "      <td>11042</td>\n",
              "      <td>Cleveland-Hopkins International</td>\n",
              "      <td>Cleveland</td>\n",
              "      <td>OH</td>\n",
              "      <td>804</td>\n",
              "      <td>35</td>\n",
              "      <td>1.0</td>\n",
              "      <td>1027</td>\n",
              "      <td>33</td>\n",
              "      <td>1</td>\n",
              "      <td>0</td>\n",
              "    </tr>\n",
              "    <tr>\n",
              "      <th>7</th>\n",
              "      <td>2013</td>\n",
              "      <td>7</td>\n",
              "      <td>28</td>\n",
              "      <td>7</td>\n",
              "      <td>EV</td>\n",
              "      <td>12264</td>\n",
              "      <td>Washington Dulles International</td>\n",
              "      <td>Washington</td>\n",
              "      <td>DC</td>\n",
              "      <td>14524</td>\n",
              "      <td>Richmond International</td>\n",
              "      <td>Richmond</td>\n",
              "      <td>VA</td>\n",
              "      <td>2218</td>\n",
              "      <td>4</td>\n",
              "      <td>0.0</td>\n",
              "      <td>2301</td>\n",
              "      <td>15</td>\n",
              "      <td>1</td>\n",
              "      <td>0</td>\n",
              "    </tr>\n",
              "    <tr>\n",
              "      <th>8</th>\n",
              "      <td>2013</td>\n",
              "      <td>10</td>\n",
              "      <td>8</td>\n",
              "      <td>2</td>\n",
              "      <td>AA</td>\n",
              "      <td>13930</td>\n",
              "      <td>Chicago O'Hare International</td>\n",
              "      <td>Chicago</td>\n",
              "      <td>IL</td>\n",
              "      <td>11298</td>\n",
              "      <td>Dallas/Fort Worth International</td>\n",
              "      <td>Dallas/Fort Worth</td>\n",
              "      <td>TX</td>\n",
              "      <td>1010</td>\n",
              "      <td>8</td>\n",
              "      <td>0.0</td>\n",
              "      <td>1240</td>\n",
              "      <td>-10</td>\n",
              "      <td>0</td>\n",
              "      <td>0</td>\n",
              "    </tr>\n",
              "  </tbody>\n",
              "</table>\n",
              "</div>\n",
              "    <div class=\"colab-df-buttons\">\n",
              "\n",
              "  <div class=\"colab-df-container\">\n",
              "    <button class=\"colab-df-convert\" onclick=\"convertToInteractive('df-a69ff8dd-8c6f-4f68-9c6e-983cb9580598')\"\n",
              "            title=\"Convert this dataframe to an interactive table.\"\n",
              "            style=\"display:none;\">\n",
              "\n",
              "  <svg xmlns=\"http://www.w3.org/2000/svg\" height=\"24px\" viewBox=\"0 -960 960 960\">\n",
              "    <path d=\"M120-120v-720h720v720H120Zm60-500h600v-160H180v160Zm220 220h160v-160H400v160Zm0 220h160v-160H400v160ZM180-400h160v-160H180v160Zm440 0h160v-160H620v160ZM180-180h160v-160H180v160Zm440 0h160v-160H620v160Z\"/>\n",
              "  </svg>\n",
              "    </button>\n",
              "\n",
              "  <style>\n",
              "    .colab-df-container {\n",
              "      display:flex;\n",
              "      gap: 12px;\n",
              "    }\n",
              "\n",
              "    .colab-df-convert {\n",
              "      background-color: #E8F0FE;\n",
              "      border: none;\n",
              "      border-radius: 50%;\n",
              "      cursor: pointer;\n",
              "      display: none;\n",
              "      fill: #1967D2;\n",
              "      height: 32px;\n",
              "      padding: 0 0 0 0;\n",
              "      width: 32px;\n",
              "    }\n",
              "\n",
              "    .colab-df-convert:hover {\n",
              "      background-color: #E2EBFA;\n",
              "      box-shadow: 0px 1px 2px rgba(60, 64, 67, 0.3), 0px 1px 3px 1px rgba(60, 64, 67, 0.15);\n",
              "      fill: #174EA6;\n",
              "    }\n",
              "\n",
              "    .colab-df-buttons div {\n",
              "      margin-bottom: 4px;\n",
              "    }\n",
              "\n",
              "    [theme=dark] .colab-df-convert {\n",
              "      background-color: #3B4455;\n",
              "      fill: #D2E3FC;\n",
              "    }\n",
              "\n",
              "    [theme=dark] .colab-df-convert:hover {\n",
              "      background-color: #434B5C;\n",
              "      box-shadow: 0px 1px 3px 1px rgba(0, 0, 0, 0.15);\n",
              "      filter: drop-shadow(0px 1px 2px rgba(0, 0, 0, 0.3));\n",
              "      fill: #FFFFFF;\n",
              "    }\n",
              "  </style>\n",
              "\n",
              "    <script>\n",
              "      const buttonEl =\n",
              "        document.querySelector('#df-a69ff8dd-8c6f-4f68-9c6e-983cb9580598 button.colab-df-convert');\n",
              "      buttonEl.style.display =\n",
              "        google.colab.kernel.accessAllowed ? 'block' : 'none';\n",
              "\n",
              "      async function convertToInteractive(key) {\n",
              "        const element = document.querySelector('#df-a69ff8dd-8c6f-4f68-9c6e-983cb9580598');\n",
              "        const dataTable =\n",
              "          await google.colab.kernel.invokeFunction('convertToInteractive',\n",
              "                                                    [key], {});\n",
              "        if (!dataTable) return;\n",
              "\n",
              "        const docLinkHtml = 'Like what you see? Visit the ' +\n",
              "          '<a target=\"_blank\" href=https://colab.research.google.com/notebooks/data_table.ipynb>data table notebook</a>'\n",
              "          + ' to learn more about interactive tables.';\n",
              "        element.innerHTML = '';\n",
              "        dataTable['output_type'] = 'display_data';\n",
              "        await google.colab.output.renderOutput(dataTable, element);\n",
              "        const docLink = document.createElement('div');\n",
              "        docLink.innerHTML = docLinkHtml;\n",
              "        element.appendChild(docLink);\n",
              "      }\n",
              "    </script>\n",
              "  </div>\n",
              "\n",
              "\n",
              "<div id=\"df-30fe9a4e-6337-40b1-8f32-22428d60941d\">\n",
              "  <button class=\"colab-df-quickchart\" onclick=\"quickchart('df-30fe9a4e-6337-40b1-8f32-22428d60941d')\"\n",
              "            title=\"Suggest charts.\"\n",
              "            style=\"display:none;\">\n",
              "\n",
              "<svg xmlns=\"http://www.w3.org/2000/svg\" height=\"24px\"viewBox=\"0 0 24 24\"\n",
              "     width=\"24px\">\n",
              "    <g>\n",
              "        <path d=\"M19 3H5c-1.1 0-2 .9-2 2v14c0 1.1.9 2 2 2h14c1.1 0 2-.9 2-2V5c0-1.1-.9-2-2-2zM9 17H7v-7h2v7zm4 0h-2V7h2v10zm4 0h-2v-4h2v4z\"/>\n",
              "    </g>\n",
              "</svg>\n",
              "  </button>\n",
              "\n",
              "<style>\n",
              "  .colab-df-quickchart {\n",
              "      --bg-color: #E8F0FE;\n",
              "      --fill-color: #1967D2;\n",
              "      --hover-bg-color: #E2EBFA;\n",
              "      --hover-fill-color: #174EA6;\n",
              "      --disabled-fill-color: #AAA;\n",
              "      --disabled-bg-color: #DDD;\n",
              "  }\n",
              "\n",
              "  [theme=dark] .colab-df-quickchart {\n",
              "      --bg-color: #3B4455;\n",
              "      --fill-color: #D2E3FC;\n",
              "      --hover-bg-color: #434B5C;\n",
              "      --hover-fill-color: #FFFFFF;\n",
              "      --disabled-bg-color: #3B4455;\n",
              "      --disabled-fill-color: #666;\n",
              "  }\n",
              "\n",
              "  .colab-df-quickchart {\n",
              "    background-color: var(--bg-color);\n",
              "    border: none;\n",
              "    border-radius: 50%;\n",
              "    cursor: pointer;\n",
              "    display: none;\n",
              "    fill: var(--fill-color);\n",
              "    height: 32px;\n",
              "    padding: 0;\n",
              "    width: 32px;\n",
              "  }\n",
              "\n",
              "  .colab-df-quickchart:hover {\n",
              "    background-color: var(--hover-bg-color);\n",
              "    box-shadow: 0 1px 2px rgba(60, 64, 67, 0.3), 0 1px 3px 1px rgba(60, 64, 67, 0.15);\n",
              "    fill: var(--button-hover-fill-color);\n",
              "  }\n",
              "\n",
              "  .colab-df-quickchart-complete:disabled,\n",
              "  .colab-df-quickchart-complete:disabled:hover {\n",
              "    background-color: var(--disabled-bg-color);\n",
              "    fill: var(--disabled-fill-color);\n",
              "    box-shadow: none;\n",
              "  }\n",
              "\n",
              "  .colab-df-spinner {\n",
              "    border: 2px solid var(--fill-color);\n",
              "    border-color: transparent;\n",
              "    border-bottom-color: var(--fill-color);\n",
              "    animation:\n",
              "      spin 1s steps(1) infinite;\n",
              "  }\n",
              "\n",
              "  @keyframes spin {\n",
              "    0% {\n",
              "      border-color: transparent;\n",
              "      border-bottom-color: var(--fill-color);\n",
              "      border-left-color: var(--fill-color);\n",
              "    }\n",
              "    20% {\n",
              "      border-color: transparent;\n",
              "      border-left-color: var(--fill-color);\n",
              "      border-top-color: var(--fill-color);\n",
              "    }\n",
              "    30% {\n",
              "      border-color: transparent;\n",
              "      border-left-color: var(--fill-color);\n",
              "      border-top-color: var(--fill-color);\n",
              "      border-right-color: var(--fill-color);\n",
              "    }\n",
              "    40% {\n",
              "      border-color: transparent;\n",
              "      border-right-color: var(--fill-color);\n",
              "      border-top-color: var(--fill-color);\n",
              "    }\n",
              "    60% {\n",
              "      border-color: transparent;\n",
              "      border-right-color: var(--fill-color);\n",
              "    }\n",
              "    80% {\n",
              "      border-color: transparent;\n",
              "      border-right-color: var(--fill-color);\n",
              "      border-bottom-color: var(--fill-color);\n",
              "    }\n",
              "    90% {\n",
              "      border-color: transparent;\n",
              "      border-bottom-color: var(--fill-color);\n",
              "    }\n",
              "  }\n",
              "</style>\n",
              "\n",
              "  <script>\n",
              "    async function quickchart(key) {\n",
              "      const quickchartButtonEl =\n",
              "        document.querySelector('#' + key + ' button');\n",
              "      quickchartButtonEl.disabled = true;  // To prevent multiple clicks.\n",
              "      quickchartButtonEl.classList.add('colab-df-spinner');\n",
              "      try {\n",
              "        const charts = await google.colab.kernel.invokeFunction(\n",
              "            'suggestCharts', [key], {});\n",
              "      } catch (error) {\n",
              "        console.error('Error during call to suggestCharts:', error);\n",
              "      }\n",
              "      quickchartButtonEl.classList.remove('colab-df-spinner');\n",
              "      quickchartButtonEl.classList.add('colab-df-quickchart-complete');\n",
              "    }\n",
              "    (() => {\n",
              "      let quickchartButtonEl =\n",
              "        document.querySelector('#df-30fe9a4e-6337-40b1-8f32-22428d60941d button');\n",
              "      quickchartButtonEl.style.display =\n",
              "        google.colab.kernel.accessAllowed ? 'block' : 'none';\n",
              "    })();\n",
              "  </script>\n",
              "</div>\n",
              "    </div>\n",
              "  </div>\n"
            ]
          },
          "metadata": {},
          "execution_count": 42
        }
      ]
    },
    {
      "cell_type": "code",
      "source": [
        "airport_retraso.groupby('OriginAirportName')['DepDelay'].mean().sort_values(ascending=False)"
      ],
      "metadata": {
        "colab": {
          "base_uri": "https://localhost:8080/"
        },
        "id": "1XmNfCTX0Hfd",
        "outputId": "7bb34459-b4ea-4c4c-b6da-7c7175c433f0"
      },
      "execution_count": 55,
      "outputs": [
        {
          "output_type": "execute_result",
          "data": {
            "text/plain": [
              "OriginAirportName\n",
              "LaGuardia                                     12.918506\n",
              "Cincinnati/Northern Kentucky International    12.888889\n",
              "Richmond International                        12.601770\n",
              "Chicago Midway International                  12.588872\n",
              "Palm Beach International                      12.566434\n",
              "                                                ...    \n",
              "Ted Stevens Anchorage International            9.728395\n",
              "Kahului Airport                                9.475806\n",
              "Ontario International                          9.461818\n",
              "Sacramento International                       9.388889\n",
              "Honolulu International                         8.977578\n",
              "Name: DepDelay, Length: 70, dtype: float64"
            ]
          },
          "metadata": {},
          "execution_count": 55
        }
      ]
    },
    {
      "cell_type": "code",
      "source": [
        "#¿Las salidas tardías suelen provocar mayores retrasos en las llegadas que las salidas puntuales?\n",
        "ans=datos_recortados['DepDelay'].corr(datos_recortados['ArrDelay'])\n",
        "datos_filtrados=pd.DataFrame()\n",
        "datos_filtrados=datos_recortados[datos_recortados['DepDelay']<1]\n",
        "ans2=datos_filtrados['DepDelay'].corr(datos_recortados['ArrDelay'])\n",
        "\n",
        "\n",
        "\n",
        "print(\"El \"+ str(round(ans*ans*100,2))+\"% de las salidas tardías se puede explicar por la relación líneal que existe entre las llegadas tardías y las salidas tardías.\\nMientras que el \",str(round(ans2*ans2*100,2)),\"% de las salidas a tiempo se puede explicar por la relación líneal que existe entre las llegadas tardías y las salidas a tiempo.\\nPor lo tanto Las salidas tardías suelen provocar mayores retrasos en las llegadas que las salidas puntuales.\")\n"
      ],
      "metadata": {
        "colab": {
          "base_uri": "https://localhost:8080/"
        },
        "id": "YFUDz_aD0srH",
        "outputId": "4d7e7991-db3b-4400-8012-35f29dc3a8e2"
      },
      "execution_count": 79,
      "outputs": [
        {
          "output_type": "stream",
          "name": "stdout",
          "text": [
            "El 38.62% de las salidas tardías se puede explicar por la relación líneal que existe entre las llegadas tardías y las salidas tardías.\n",
            "Mientras que el  4.85 % de las salidas a tiempo se puede explicar por la relación líneal que existe entre las llegadas tardías y las salidas a tiempo.\n",
            "Por lo tanto Las salidas tardías suelen provocar mayores retrasos en las llegadas que las salidas puntuales.\n"
          ]
        }
      ]
    },
    {
      "cell_type": "markdown",
      "source": [
        "2. Explora los datos limpios.\n",
        "     - Consulta las estadísticas de resumen de los campos numéricos del conjunto de datos.\n",
        "     - Determina la distribución de las columnas *DepDelay* y *ArrDelay*.\n",
        "     - Utiliza estadísticas, funciones de agregación y visualización para responder a las siguientes preguntas:\n",
        "         - *¿Cuáles son los promedios (mean) de salida y llegada?*\n",
        "         - *¿Cómo se comparan las compañías en cuanto a retrasos en las llegadas?*\n",
        "         - *¿Hay días de la semana más propensos a las llegadas que otros?*\n",
        "         - *¿Cuál es el aeropuerto de salida con mayor retraso medio?*\n",
        "         - *¿Las salidas tardías suelen provocar mayores retrasos en las llegadas que las salidas puntuales?*\n",
        "         - *¿Qué ruta (del aeropuerto de origen al aeropuerto de destino) tiene más llegadas con retraso?*\n",
        "         - *¿Qué ruta tiene el mayor retraso medio de llegada?*\n",
        "         "
      ],
      "metadata": {
        "id": "T_tZ0i56g12u"
      }
    },
    {
      "cell_type": "code",
      "source": [
        "promedio_retraso_llegada_rutas = datos_recortados.groupby(['OriginAirportName', 'DestAirportName'])['ArrDelay'].mean().reset_index()\n",
        "promedio_retraso_llegada_rutas = promedio_retraso_llegada_rutas.sort_values(by='ArrDelay', ascending=False)\n",
        "ruta_con_mayor_retraso_promedio = promedio_retraso_llegada_rutas.iloc[0]\n",
        "\n",
        "print(\"Ruta con el mayor retraso promedio en la llegada:\")\n",
        "print(\"Origen:\",ruta_con_mayor_retraso_promedio['OriginAirportName'])\n",
        "print(\"Destino:\",ruta_con_mayor_retraso_promedio['DestAirportName'])\n",
        "print(\"Promedio de retraso en la llegada:\",ruta_con_mayor_retraso_promedio['ArrDelay'])"
      ],
      "metadata": {
        "colab": {
          "base_uri": "https://localhost:8080/"
        },
        "id": "UVESovix8zlf",
        "outputId": "52330369-ef68-4fc6-ca1e-50a2bd98f9f9"
      },
      "execution_count": 81,
      "outputs": [
        {
          "output_type": "stream",
          "name": "stdout",
          "text": [
            "Ruta con el mayor retraso promedio en la llegada:\n",
            "Origen: Louis Armstrong New Orleans International\n",
            "Destino: Ronald Reagan Washington National\n",
            "Promedio de retraso en la llegada: 25.0\n"
          ]
        }
      ]
    }
  ],
  "metadata": {
    "kernelspec": {
      "display_name": "Python 3",
      "language": "python",
      "name": "python3"
    },
    "language_info": {
      "codemirror_mode": {
        "name": "ipython",
        "version": 3
      },
      "file_extension": ".py",
      "mimetype": "text/x-python",
      "name": "python",
      "nbconvert_exporter": "python",
      "pygments_lexer": "ipython3",
      "version": "3.8.5"
    },
    "colab": {
      "provenance": []
    }
  },
  "nbformat": 4,
  "nbformat_minor": 0
}